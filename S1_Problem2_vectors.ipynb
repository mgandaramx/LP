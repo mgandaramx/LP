{
  "nbformat": 4,
  "nbformat_minor": 0,
  "metadata": {
    "colab": {
      "provenance": [],
      "authorship_tag": "ABX9TyN+Z9Rjv/1zS2bLRenvchVz",
      "include_colab_link": true
    },
    "kernelspec": {
      "name": "python3",
      "display_name": "Python 3"
    },
    "language_info": {
      "name": "python"
    }
  },
  "cells": [
    {
      "cell_type": "markdown",
      "metadata": {
        "id": "view-in-github",
        "colab_type": "text"
      },
      "source": [
        "<a href=\"https://colab.research.google.com/github/mgandaramx/LP/blob/main/S1_Problem2_vectors.ipynb\" target=\"_parent\"><img src=\"https://colab.research.google.com/assets/colab-badge.svg\" alt=\"Open In Colab\"/></a>"
      ]
    },
    {
      "cell_type": "code",
      "execution_count": null,
      "metadata": {
        "id": "acCE3-5RQ-M5"
      },
      "outputs": [],
      "source": [
        "!pip install pyomo\n",
        "!apt-get install -y -qq glpk-utils"
      ]
    },
    {
      "cell_type": "code",
      "source": [
        "import pyomo.environ as pyo\n",
        "from pyomo.environ import *\n",
        "from pyomo.opt import SolverFactory"
      ],
      "metadata": {
        "id": "xzO11FYjRc-2"
      },
      "execution_count": 3,
      "outputs": []
    },
    {
      "cell_type": "code",
      "source": [
        "model = pyo.ConcreteModel()\n",
        "# Sets\n",
        "model.i = pyo.Set(initialize =['Desk','Table','Chair'])\n",
        "\n",
        "# Parameters\n",
        "model.L = pyo.Param(model.i,initialize = {'Desk':8,'Table':6,'Chair':1})\n",
        "model.F = pyo.Param(model.i,initialize = {'Desk':4,'Table':2,'Chair':1.5})\n",
        "model.C = pyo.Param(model.i,initialize = {'Desk':2,'Table':1.5,'Chair':0.5})\n",
        "model.P = pyo.Param(model.i,initialize = {'Desk':60,'Table':30,'Chair':20})\n",
        "\n",
        "# Decision variable\n",
        "model.x = pyo.Var(model.i,domain = pyo.NonNegativeReals)\n",
        "\n",
        "# Objective function\n",
        "model.obj = pyo.Objective(expr = sum(model.P[i]*model.x[i] for i in model.i),sense = pyo.maximize)\n",
        "\n",
        "# Constrains\n",
        "model.con1 = pyo.Constraint(expr = sum(model.L[i]*model.x[i] for i in model.i) <= 48)\n",
        "model.con2 = pyo.Constraint(expr = sum(model.F[i]*model.x[i] for i in model.i) <= 20)\n",
        "model.con3 = pyo.Constraint(expr = sum(model.C[i]*model.x[i] for i in model.i) <= 8)\n",
        "model.con4 = pyo.Constraint(expr = model.x['Table'] <= 5)\n",
        "\n",
        "# Solve\n",
        "Solver = SolverFactory('glpk')\n",
        "results = Solver.solve(model)\n",
        "print(results)\n",
        "print('Objective function =', model.obj())\n",
        "for i in model.i:\n",
        "  print('Number of',i,'produced =',model.x[i]())\n",
        "\n",
        "\n",
        "\n"
      ],
      "metadata": {
        "id": "ijKmBnsARrhC"
      },
      "execution_count": null,
      "outputs": []
    }
  ]
}