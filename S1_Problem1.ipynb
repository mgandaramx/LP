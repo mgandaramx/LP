{
  "nbformat": 4,
  "nbformat_minor": 0,
  "metadata": {
    "colab": {
      "provenance": [],
      "authorship_tag": "ABX9TyOZHfiiPqw2q2K0BG8IZ42q",
      "include_colab_link": true
    },
    "kernelspec": {
      "name": "python3",
      "display_name": "Python 3"
    },
    "language_info": {
      "name": "python"
    }
  },
  "cells": [
    {
      "cell_type": "markdown",
      "metadata": {
        "id": "view-in-github",
        "colab_type": "text"
      },
      "source": [
        "<a href=\"https://colab.research.google.com/github/mgandaramx/LP/blob/main/S1_Problem1.ipynb\" target=\"_parent\"><img src=\"https://colab.research.google.com/assets/colab-badge.svg\" alt=\"Open In Colab\"/></a>"
      ]
    },
    {
      "cell_type": "code",
      "execution_count": null,
      "metadata": {
        "id": "gXkfY9I3yE5A"
      },
      "outputs": [],
      "source": [
        "!pip install pyomo\n",
        "!apt-get install -y -qq glpk-utils"
      ]
    },
    {
      "cell_type": "code",
      "source": [
        "import pyomo.environ as pyo\n",
        "from pyomo.opt import SolverFactory"
      ],
      "metadata": {
        "id": "QqMvM8hM1sP5"
      },
      "execution_count": null,
      "outputs": []
    },
    {
      "cell_type": "code",
      "source": [
        "# Defining the model\n",
        "model = pyo.ConcreteModel()\n",
        "# Decision variables\n",
        "model.x1 = pyo.Var(within=pyo.NonNegativeReals)\n",
        "model.x2 = pyo.Var(within=pyo.NonNegativeReals)\n",
        "# Objective function\n",
        "model.Objective = pyo.Objective(expr=4*model.x1 + 3*model.x2, sense=pyo.maximize)\n",
        "# Constraints\n",
        "model.const1 = pyo.Constraint(expr=model.x1 + model.x2 <= 40)\n",
        "model.const2 = pyo.Constraint(expr=2*model.x1 + model.x2 <= 60)\n",
        "\n",
        "optm = SolverFactory('glpk')\n",
        "results = optm.solve(model)\n",
        "print(results)\n",
        "print('Objective function value = ', model.Objective())\n",
        "print('x1 = ', model.x1())\n",
        "print('x2 = ', model.x2())"
      ],
      "metadata": {
        "id": "NfCTJkWW2JLr"
      },
      "execution_count": null,
      "outputs": []
    }
  ]
}